{
 "cells": [
  {
   "cell_type": "code",
   "execution_count": 1,
   "metadata": {},
   "outputs": [
    {
     "name": "stderr",
     "output_type": "stream",
     "text": [
      "c:\\Users\\Wesley\\AppData\\Local\\Programs\\Python\\Python38\\lib\\site-packages\\tqdm\\auto.py:21: TqdmWarning: IProgress not found. Please update jupyter and ipywidgets. See https://ipywidgets.readthedocs.io/en/stable/user_install.html\n",
      "  from .autonotebook import tqdm as notebook_tqdm\n"
     ]
    }
   ],
   "source": [
    "import warnings\n",
    "warnings.filterwarnings('ignore', category=UserWarning)\n",
    "from model_code import *\n",
    "from transformers import BartForConditionalGeneration\n",
    "from transformers import BartTokenizer\n",
    "from extract_keypoints import extract_keypoints_func"
   ]
  },
  {
   "cell_type": "code",
   "execution_count": 2,
   "metadata": {},
   "outputs": [],
   "source": [
    "model_path = 'saved_model'\n",
    "model = load_custom_transformer_model(model_path)\n",
    "model_path_bart = \"bart_model\"\n",
    "model_bart = BartForConditionalGeneration.from_pretrained(model_path_bart)\n",
    "model_bart = model_bart.to(\"cuda\")\n",
    "\n",
    "# Carregar o tokenizador\n",
    "tokenizer_bart = BartTokenizer.from_pretrained(\"facebook/bart-large\")"
   ]
  },
  {
   "cell_type": "code",
   "execution_count": 3,
   "metadata": {},
   "outputs": [],
   "source": [
    "def predictions(kps):\n",
    "    # SING2GLOSS\n",
    "    kps = tf.convert_to_tensor(kps, dtype=tf.float32)\n",
    "    kps = resize_pad(kps)\n",
    "    kps = normalize(kps)\n",
    "    kps = tf.expand_dims(kps, 0)\n",
    "    pred = model.predict(kps, verbose=0)\n",
    "    pred = beam_search(pred, tokenizer, beam_width=10)\n",
    "    text = remove_consecutive_duplicates(pred[0][0])\n",
    "    text = correcoes(text, file_path = 'annotations/words_with_hyphen.txt')\n",
    "    print(text)\n",
    "\n",
    "    # GLOSS2TEXT\n",
    "    input_ids = tokenizer_bart.encode(text, return_tensors=\"pt\", max_length=20, truncation=True)\n",
    "    input_ids = input_ids.to(\"cuda\")\n",
    "    output_ids = model_bart.generate(input_ids, max_length=60)[0]\n",
    "    decoded_output = tokenizer_bart.decode(output_ids, skip_special_tokens=True)\n",
    "    print(decoded_output)"
   ]
  },
  {
   "cell_type": "code",
   "execution_count": 5,
   "metadata": {},
   "outputs": [
    {
     "name": "stdout",
     "output_type": "stream",
     "text": [
      "LIEB ZUSCHAUER ABEND\n",
      "liebe zuschauer guten abend\n"
     ]
    }
   ],
   "source": [
    "# Caminho para o vídeo\n",
    "path = 'videos/01April_2010_Thursday_heute-6694.mp4'\n",
    "kps = extract_keypoints_func(path)\n",
    "text = predictions(kps)"
   ]
  }
 ],
 "metadata": {
  "kernelspec": {
   "display_name": "Python 3",
   "language": "python",
   "name": "python3"
  },
  "language_info": {
   "codemirror_mode": {
    "name": "ipython",
    "version": 3
   },
   "file_extension": ".py",
   "mimetype": "text/x-python",
   "name": "python",
   "nbconvert_exporter": "python",
   "pygments_lexer": "ipython3",
   "version": "undefined.undefined.undefined"
  }
 },
 "nbformat": 4,
 "nbformat_minor": 2
}
